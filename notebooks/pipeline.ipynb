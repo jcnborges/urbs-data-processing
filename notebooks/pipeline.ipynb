{
 "cells": [
  {
   "cell_type": "code",
   "execution_count": 2,
   "metadata": {
    "tags": []
   },
   "outputs": [],
   "source": [
    "from dataprocessing.processors.refined_ingestion import BusLineRefinedProcess, BusItineraryRefinedProcess, BusTrackingRefinedProcess\n",
    "from dataprocessing.processors.trust_ingestion import TrustProcessing\n",
    "from dataprocessing.processors.mysql_ingestion import MySQLDataProcess\n",
    "\n",
    "from pyspark.sql import functions as F, types as T\n",
    "from pyspark.sql.window import Window"
   ]
  },
  {
   "cell_type": "code",
   "execution_count": 1,
   "metadata": {},
   "outputs": [
    {
     "name": "stderr",
     "output_type": "stream",
     "text": [
      "/opt/conda/lib/python3.10/site-packages/pyspark/sql/context.py:77: FutureWarning: Deprecated in 3.0.0. Use SparkSession.builder.getOrCreate() instead.\n",
      "  warnings.warn(\n"
     ]
    }
   ],
   "source": [
    "from dataprocessing.processors.sparketl import ETLSpark\n",
    "\n",
    "etl_spark = ETLSpark()"
   ]
  },
  {
   "cell_type": "code",
   "execution_count": 3,
   "metadata": {},
   "outputs": [
    {
     "name": "stdout",
     "output_type": "stream",
     "text": [
      "FILE: Column<'input_file_name()'>\n",
      "FILE: Column<'input_file_name()'>\n",
      "CPU times: user 49.1 ms, sys: 4.74 ms, total: 53.8 ms\n",
      "Wall time: 59 s\n"
     ]
    }
   ],
   "source": [
    "%%time\n",
    "TrustProcessing(\"2022-07\")()"
   ]
  },
  {
   "cell_type": "code",
   "execution_count": 3,
   "metadata": {},
   "outputs": [
    {
     "name": "stderr",
     "output_type": "stream",
     "text": [
      "/opt/conda/lib/python3.10/site-packages/pyspark/sql/context.py:77: FutureWarning: Deprecated in 3.0.0. Use SparkSession.builder.getOrCreate() instead.\n",
      "  warnings.warn(\n"
     ]
    },
    {
     "name": "stdout",
     "output_type": "stream",
     "text": [
      "['mysql', '-hmysql', '-P3306', '-uroot', '-p123456789', '-Dbusanalysis_dw', '-e', 'source /opt/urbs-data-processing/dataprocessing/sql/bulk_insert.sql']\n",
      "\n",
      "Error: mysql: [Warning] Using a password on the command line interface can be insecure.\n",
      "\n",
      "['mysql', '-hmysql', '-P3306', '-uroot', '-p123456789', '-Dbusanalysis_dw', '-e', \"call busanalysis_dw.sp_load_all('2022-07-12');\"]\n",
      "\n",
      "Error: mysql: [Warning] Using a password on the command line interface can be insecure.\n",
      "\n",
      "CPU times: user 42.6 ms, sys: 46.3 ms, total: 88.9 ms\n",
      "Wall time: 59 s\n"
     ]
    }
   ],
   "source": [
    "%%time\n",
    "#BusLineRefinedProcess(2022,7,11)()\n",
    "#BusItineraryRefinedProcess(2022,7,11)()\n",
    "#BusTrackingRefinedProcess(2022,7,12,'020')()\n",
    "#BusTrackingRefinedMultithreadProcess(2022,7,12,5)()\n",
    "MySQLDataProcess(2022,7,12)()"
   ]
  },
  {
   "cell_type": "code",
   "execution_count": null,
   "metadata": {},
   "outputs": [],
   "source": []
  }
 ],
 "metadata": {
  "kernelspec": {
   "display_name": "Python 3 (ipykernel)",
   "language": "python",
   "name": "python3"
  },
  "language_info": {
   "codemirror_mode": {
    "name": "ipython",
    "version": 3
   },
   "file_extension": ".py",
   "mimetype": "text/x-python",
   "name": "python",
   "nbconvert_exporter": "python",
   "pygments_lexer": "ipython3",
   "version": "3.10.5"
  }
 },
 "nbformat": 4,
 "nbformat_minor": 4
}
