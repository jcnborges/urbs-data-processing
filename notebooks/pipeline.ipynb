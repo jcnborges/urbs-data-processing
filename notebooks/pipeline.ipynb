{
 "cells": [
  {
   "cell_type": "code",
   "execution_count": 1,
   "metadata": {
    "tags": []
   },
   "outputs": [],
   "source": [
    "from dataprocessing.processors.refined_ingestion import BusLineRefinedProcess, BusItineraryRefinedProcess, BusTrackingRefinedProcess, BusTrackingRefinedMultithreadProcess\n",
    "from dataprocessing.processors.trust_ingestion import TrustProcessing\n",
    "from dataprocessing.processors.mysql_ingestion import MySQLDataProcess\n",
    "\n",
    "from pyspark.sql import functions as F, types as T\n",
    "from pyspark.sql.window import Window"
   ]
  },
  {
   "cell_type": "code",
   "execution_count": 1,
   "metadata": {},
   "outputs": [
    {
     "name": "stderr",
     "output_type": "stream",
     "text": [
      "/opt/conda/lib/python3.10/site-packages/pyspark/sql/context.py:77: FutureWarning: Deprecated in 3.0.0. Use SparkSession.builder.getOrCreate() instead.\n",
      "  warnings.warn(\n"
     ]
    }
   ],
   "source": [
    "from dataprocessing.processors.sparketl import ETLSpark\n",
    "\n",
    "etl_spark = ETLSpark()"
   ]
  },
  {
   "cell_type": "code",
   "execution_count": 3,
   "metadata": {},
   "outputs": [
    {
     "name": "stdout",
     "output_type": "stream",
     "text": [
      "FILE: Column<'input_file_name()'>\n",
      "FILE: Column<'input_file_name()'>\n",
      "CPU times: user 49.1 ms, sys: 4.74 ms, total: 53.8 ms\n",
      "Wall time: 59 s\n"
     ]
    }
   ],
   "source": [
    "%%time\n",
    "TrustProcessing(\"2022-07\")()"
   ]
  },
  {
   "cell_type": "code",
   "execution_count": 2,
   "metadata": {},
   "outputs": [
    {
     "name": "stderr",
     "output_type": "stream",
     "text": [
      "/opt/conda/lib/python3.10/site-packages/pyspark/sql/context.py:77: FutureWarning: Deprecated in 3.0.0. Use SparkSession.builder.getOrCreate() instead.\n",
      "  warnings.warn(\n"
     ]
    },
    {
     "name": "stdout",
     "output_type": "stream",
     "text": [
      "+---------+-------+------+------------+--------------------+---+\n",
      "|line_code|vehicle|    id|itinerary_id|     event_timestamp|seq|\n",
      "+---------+-------+------+------------+--------------------+---+\n",
      "|       30|  BB602|130921|       10655|2022-07-12 08:37:...|  2|\n",
      "|       30|  GB603|130925|       10655|2022-07-12 10:46:...|  4|\n",
      "|       30|  CA603|130183|       10655|2022-07-12 16:44:...|  8|\n",
      "|       30|  KB608|130199|       10655|2022-07-12 16:45:...| 16|\n",
      "|       30|  KB608|130249|       10655|2022-07-12 16:49:...| 21|\n",
      "|       30|  BB621|130251|       10655|2022-07-12 09:31:...| 23|\n",
      "|       30|  BB605|130251|       10655|2022-07-12 16:23:...| 23|\n",
      "|       30|  CA603|130258|       10655|2022-07-12 10:22:...| 27|\n",
      "|       30|  KB608|140235|       10655|2022-07-12 16:56:...| 29|\n",
      "|       30|  KB605|140237|       10655|2022-07-12 07:10:...| 30|\n",
      "|       30|  EB604|140251|       10655|2022-07-12 12:18:...| 38|\n",
      "|       30|  GA601|140253|       10655|2022-07-12 18:41:...| 39|\n",
      "|       30|  BB608|140301|       10655|2022-07-12 17:41:...| 40|\n",
      "|       30|  BB606|140301|       10655|2022-07-12 18:51:...| 40|\n",
      "|       30|  BB608|140314|       10655|2022-07-12 07:05:...| 47|\n",
      "|       30|  GA601|150308|       10655|2022-07-12 19:09:...| 60|\n",
      "|       30|  KB606|150311|       10655|2022-07-12 07:13:...| 61|\n",
      "|       30|  BB602|150313|       10655|2022-07-12 13:12:...| 62|\n",
      "|       30|  EB602|150318|       10655|2022-07-12 16:51:...| 65|\n",
      "|       30|  GB603|150320|       10655|2022-07-12 22:07:...| 66|\n",
      "+---------+-------+------+------------+--------------------+---+\n",
      "only showing top 20 rows\n",
      "\n",
      "['mysql', '-hmysql', '-P3306', '-uroot', '-p123456789', '-Dbusanalysis_dw', '-e', 'source /opt/urbs-data-processing/dataprocessing/sql/bulk_insert.sql']\n",
      "\n",
      "Error: mysql: [Warning] Using a password on the command line interface can be insecure.\n",
      "\n",
      "['mysql', '-hmysql', '-P3306', '-uroot', '-p123456789', '-Dbusanalysis_dw', '-e', \"call busanalysis_dw.sp_load_all('2022-07-12');\"]\n",
      "\n",
      "Error: mysql: [Warning] Using a password on the command line interface can be insecure.\n",
      "\n",
      "CPU times: user 43.5 ms, sys: 15.3 ms, total: 58.8 ms\n",
      "Wall time: 12.4 s\n"
     ]
    }
   ],
   "source": [
    "%%time\n",
    "#BusLineRefinedProcess(2022,7,11)()\n",
    "#BusItineraryRefinedProcess(2022,7,11)()\n",
    "#BusTrackingRefinedProcess(2022,7,12,'020')()\n",
    "#BusTrackingRefinedMultithreadProcess(2022,7,12,5)()\n",
    "MySQLDataProcess(2022,7,12)()"
   ]
  },
  {
   "cell_type": "code",
   "execution_count": null,
   "metadata": {},
   "outputs": [],
   "source": []
  }
 ],
 "metadata": {
  "kernelspec": {
   "display_name": "Python 3 (ipykernel)",
   "language": "python",
   "name": "python3"
  },
  "language_info": {
   "codemirror_mode": {
    "name": "ipython",
    "version": 3
   },
   "file_extension": ".py",
   "mimetype": "text/x-python",
   "name": "python",
   "nbconvert_exporter": "python",
   "pygments_lexer": "ipython3",
   "version": "3.10.5"
  }
 },
 "nbformat": 4,
 "nbformat_minor": 4
}
